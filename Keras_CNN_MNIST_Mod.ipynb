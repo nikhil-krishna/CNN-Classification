{
 "cells": [
  {
   "cell_type": "code",
   "execution_count": 1,
   "metadata": {
    "colab": {
     "base_uri": "https://localhost:8080/",
     "height": 122
    },
    "colab_type": "code",
    "executionInfo": {
     "elapsed": 15536,
     "status": "ok",
     "timestamp": 1573614810161,
     "user": {
      "displayName": "Nikhil Krishna",
      "photoUrl": "https://lh3.googleusercontent.com/a-/AAuE7mBTB9sW-Jni0JYc4yDayiCfS4RVO2wKcTzrPj0d=s64",
      "userId": "09332230752069970611"
     },
     "user_tz": 300
    },
    "id": "EaETvEo5ZpCX",
    "outputId": "b4fab8d5-d940-4746-dd71-d978ed236078"
   },
   "outputs": [
    {
     "name": "stdout",
     "output_type": "stream",
     "text": [
      "Go to this URL in a browser: https://accounts.google.com/o/oauth2/auth?client_id=947318989803-6bn6qk8qdgf4n4g3pfee6491hc0brc4i.apps.googleusercontent.com&redirect_uri=urn%3Aietf%3Awg%3Aoauth%3A2.0%3Aoob&scope=email%20https%3A%2F%2Fwww.googleapis.com%2Fauth%2Fdocs.test%20https%3A%2F%2Fwww.googleapis.com%2Fauth%2Fdrive%20https%3A%2F%2Fwww.googleapis.com%2Fauth%2Fdrive.photos.readonly%20https%3A%2F%2Fwww.googleapis.com%2Fauth%2Fpeopleapi.readonly&response_type=code\n",
      "\n",
      "Enter your authorization code:\n",
      "··········\n",
      "Mounted at /content/drive\n"
     ]
    }
   ],
   "source": [
    "# Get files from google drive\n",
    "from google.colab import drive\n",
    "drive.mount('/content/drive')"
   ]
  },
  {
   "cell_type": "code",
   "execution_count": 2,
   "metadata": {
    "colab": {
     "base_uri": "https://localhost:8080/",
     "height": 80
    },
    "colab_type": "code",
    "executionInfo": {
     "elapsed": 1621,
     "status": "ok",
     "timestamp": 1573614812988,
     "user": {
      "displayName": "Nikhil Krishna",
      "photoUrl": "https://lh3.googleusercontent.com/a-/AAuE7mBTB9sW-Jni0JYc4yDayiCfS4RVO2wKcTzrPj0d=s64",
      "userId": "09332230752069970611"
     },
     "user_tz": 300
    },
    "id": "4iFno7acaZcP",
    "outputId": "d898946a-35bf-411e-b3a7-982f10bf2b50"
   },
   "outputs": [
    {
     "name": "stderr",
     "output_type": "stream",
     "text": [
      "Using TensorFlow backend.\n"
     ]
    },
    {
     "data": {
      "text/html": [
       "<p style=\"color: red;\">\n",
       "The default version of TensorFlow in Colab will soon switch to TensorFlow 2.x.<br>\n",
       "We recommend you <a href=\"https://www.tensorflow.org/guide/migrate\" target=\"_blank\">upgrade</a> now \n",
       "or ensure your notebook will continue to use TensorFlow 1.x via the <code>%tensorflow_version 1.x</code> magic:\n",
       "<a href=\"https://colab.research.google.com/notebooks/tensorflow_version.ipynb\" target=\"_blank\">more info</a>.</p>\n"
      ],
      "text/plain": [
       "<IPython.core.display.HTML object>"
      ]
     },
     "metadata": {
      "tags": []
     },
     "output_type": "display_data"
    }
   ],
   "source": [
    "# Import necessary packages\n",
    "import pickle\n",
    "import os.path\n",
    "import numpy as np\n",
    "import pandas as pd\n",
    "import keras\n",
    "import matplotlib.pyplot as plt\n",
    "%matplotlib inline"
   ]
  },
  {
   "cell_type": "code",
   "execution_count": 0,
   "metadata": {
    "colab": {},
    "colab_type": "code",
    "id": "zL-HYRo7Zad4"
   },
   "outputs": [],
   "source": [
    "# Function serves as work around for reading very large pickle files \n",
    "# when memory is limited\n",
    "# Code taken from https://stackoverflow.com/questions/42653386/does-pickle-randomly-fail-with-oserror-on-large-files/42725930\n",
    "def try_to_load_as_pickled_object_or_None(filepath):\n",
    "\n",
    "    max_bytes = 2**31 - 1\n",
    "\n",
    "    try:\n",
    "        input_size = os.path.getsize(filepath)\n",
    "        bytes_in = bytearray(0)\n",
    "        with open(filepath, 'rb') as f_in:\n",
    "            for _ in range(0, input_size, max_bytes):\n",
    "                bytes_in += f_in.read(max_bytes)\n",
    "        obj = pickle.loads(bytes_in)\n",
    "\n",
    "    except:\n",
    "        return None\n",
    "    return obj"
   ]
  },
  {
   "cell_type": "code",
   "execution_count": 0,
   "metadata": {
    "colab": {},
    "colab_type": "code",
    "id": "wS2vszI87pgC"
   },
   "outputs": [],
   "source": [
    "# Function to plot data after model is fit \n",
    "def plot_data(epoch_range, data1, data2, title, xlabel, ylabel, leg_loc=\"upper left\"):\n",
    "\n",
    "  # Create new figure and add necessary components\n",
    "    plt.figure()\n",
    "\n",
    "    plt.xlabel(xlabel)\n",
    "    plt.ylabel(ylabel)\n",
    "    plt.title(title)\n",
    "\n",
    "    plt1 = plt.plot(epoch_range, data1, label=\"Training\")\n",
    "    plt2 = plt.plot(epoch_range, data2, label=\"Validation\")\n",
    "\n",
    "    plt.legend(loc=leg_loc)\n",
    "    plt.show()\n"
   ]
  },
  {
   "cell_type": "code",
   "execution_count": 0,
   "metadata": {
    "colab": {},
    "colab_type": "code",
    "id": "niCdkOXwaklx"
   },
   "outputs": [],
   "source": [
    "# Read in training data\n",
    "train_images = try_to_load_as_pickled_object_or_None('drive/My Drive/Colab Notebooks/train_max_x')\n",
    "train_labels = pd.read_csv('drive/My Drive/Colab Notebooks/train_max_y.csv')\n",
    "train_labels = train_labels.drop(columns='Id').to_numpy()            "
   ]
  },
  {
   "cell_type": "code",
   "execution_count": 0,
   "metadata": {
    "colab": {},
    "colab_type": "code",
    "id": "S5-Cnx6wasdF"
   },
   "outputs": [],
   "source": [
    "# Read in testing data\n",
    "test_images = pd.read_pickle('drive/My Drive/Colab Notebooks/test_max_x')"
   ]
  },
  {
   "cell_type": "code",
   "execution_count": 0,
   "metadata": {
    "colab": {},
    "colab_type": "code",
    "id": "Udrm5lEYcleq"
   },
   "outputs": [],
   "source": [
    "# [0:50000] included in case we want to limit number of data points\n",
    "# Reshape data to fit into CNN\n",
    "train_images = train_images[0:50000].reshape(50000, 128, 128, 1)\n",
    "test_images = test_images[0:50000].reshape(10000, 128, 128, 1)\n",
    "\n",
    "train_labels = keras.utils.to_categorical(train_labels)"
   ]
  },
  {
   "cell_type": "code",
   "execution_count": 0,
   "metadata": {
    "colab": {},
    "colab_type": "code",
    "id": "DwOahxJFdAUt"
   },
   "outputs": [],
   "source": [
    "# Function builds the CNN\n",
    "def build_cnn(input_shape):\n",
    "\n",
    "    model = keras.models.Sequential()\n",
    "    model.add(keras.layers.Conv2D(64, kernel_size=3, activation='relu', input_shape=input_shape))\n",
    "    model.add(keras.layers.Conv2D(64, kernel_size=3, activation='relu'))\n",
    "    model.add(keras.layers.BatchNormalization())\n",
    "    model.add(keras.layers.MaxPooling2D(pool_size=(2, 2)))\n",
    "    model.add(keras.layers.Dropout(0.5))\n",
    "\n",
    "    model.add(keras.layers.Conv2D(128, kernel_size=5, activation='relu', input_shape=input_shape))\n",
    "    model.add(keras.layers.Conv2D(128, kernel_size=5, activation='relu'))\n",
    "    model.add(keras.layers.BatchNormalization())\n",
    "    model.add(keras.layers.MaxPooling2D(pool_size=(2, 2)))\n",
    "    model.add(keras.layers.Dropout(0.5))\n",
    "\n",
    "    model.add(keras.layers.Conv2D(256, kernel_size=3, activation='relu', input_shape=input_shape))\n",
    "    model.add(keras.layers.Conv2D(256, kernel_size=3, activation='relu'))\n",
    "    model.add(keras.layers.BatchNormalization())\n",
    "    model.add(keras.layers.MaxPooling2D(pool_size=(2, 2)))\n",
    "    model.add(keras.layers.Dropout(0.5))\n",
    "\n",
    "\n",
    "    model.add(keras.layers.Conv2D(128, (3, 3), activation='relu'))\n",
    "    model.add(keras.layers.MaxPooling2D(pool_size=(3, 3)))\n",
    "\n",
    "    model.add(keras.layers.Flatten())\n",
    "    model.add(keras.layers.Dense(64, activation='relu'))\n",
    "    model.add(keras.layers.Dense(64, activation='relu'))  \n",
    "    model.add(keras.layers.Dense(10, activation='softmax'))\n",
    "\n",
    "    # Show a summary of model\n",
    "    model.summary()\n",
    "\n",
    "    return model"
   ]
  },
  {
   "cell_type": "code",
   "execution_count": 0,
   "metadata": {
    "colab": {},
    "colab_type": "code",
    "id": "lW2kXbzNdpPO"
   },
   "outputs": [],
   "source": [
    "# Function compiles and fits a model using training data and parameters specified\n",
    "def fit_cnn(train_images, train_labels, optimizer, opt_param, loss_function, metrics, epochs=15):\n",
    "  \n",
    "    if optimizer == 'nadam':\n",
    "    opt = keras.optimizers.Nadam(schedule_decay=opt_param) # 0.004 (lr = 0.001)\n",
    "    if optimizer == 'sgd':\n",
    "    opt = keras.optimizers.SGD(lr=opt_param) # 0.00001\n",
    "    if optimizer == 'adam':\n",
    "    opt = keras.optimizers.adam() # default\n",
    "\n",
    "    model.compile(optimizer=opt, loss=loss_function, metrics=metrics) #categorical_crossentropy, [\"accuracy\"]\n",
    "    early_stopping = keras.callbacks.EarlyStopping(patience=3, verbose=2, mode='auto', min_delta=0.00005)\n",
    "\n",
    "    model.fit(train_images, train_labels, validation_split=0.04, epochs=epochs, callbacks=[early_stopping], batch_size=32)\n",
    "\n",
    "    return model"
   ]
  },
  {
   "cell_type": "code",
   "execution_count": 13,
   "metadata": {
    "colab": {
     "base_uri": "https://localhost:8080/",
     "height": 867
    },
    "colab_type": "code",
    "executionInfo": {
     "elapsed": 867,
     "status": "ok",
     "timestamp": 1573615115483,
     "user": {
      "displayName": "Nikhil Krishna",
      "photoUrl": "https://lh3.googleusercontent.com/a-/AAuE7mBTB9sW-Jni0JYc4yDayiCfS4RVO2wKcTzrPj0d=s64",
      "userId": "09332230752069970611"
     },
     "user_tz": 300
    },
    "id": "fL9ugG28ikhv",
    "outputId": "461af130-d7f6-4212-dc9f-cbb9817ee851"
   },
   "outputs": [
    {
     "name": "stdout",
     "output_type": "stream",
     "text": [
      "Model: \"sequential_2\"\n",
      "_________________________________________________________________\n",
      "Layer (type)                 Output Shape              Param #   \n",
      "=================================================================\n",
      "conv2d_8 (Conv2D)            (None, 126, 126, 64)      640       \n",
      "_________________________________________________________________\n",
      "conv2d_9 (Conv2D)            (None, 124, 124, 64)      36928     \n",
      "_________________________________________________________________\n",
      "batch_normalization_4 (Batch (None, 124, 124, 64)      256       \n",
      "_________________________________________________________________\n",
      "max_pooling2d_5 (MaxPooling2 (None, 62, 62, 64)        0         \n",
      "_________________________________________________________________\n",
      "dropout_4 (Dropout)          (None, 62, 62, 64)        0         \n",
      "_________________________________________________________________\n",
      "conv2d_10 (Conv2D)           (None, 58, 58, 128)       204928    \n",
      "_________________________________________________________________\n",
      "conv2d_11 (Conv2D)           (None, 54, 54, 128)       409728    \n",
      "_________________________________________________________________\n",
      "batch_normalization_5 (Batch (None, 54, 54, 128)       512       \n",
      "_________________________________________________________________\n",
      "max_pooling2d_6 (MaxPooling2 (None, 27, 27, 128)       0         \n",
      "_________________________________________________________________\n",
      "dropout_5 (Dropout)          (None, 27, 27, 128)       0         \n",
      "_________________________________________________________________\n",
      "conv2d_12 (Conv2D)           (None, 25, 25, 256)       295168    \n",
      "_________________________________________________________________\n",
      "conv2d_13 (Conv2D)           (None, 23, 23, 256)       590080    \n",
      "_________________________________________________________________\n",
      "batch_normalization_6 (Batch (None, 23, 23, 256)       1024      \n",
      "_________________________________________________________________\n",
      "max_pooling2d_7 (MaxPooling2 (None, 11, 11, 256)       0         \n",
      "_________________________________________________________________\n",
      "dropout_6 (Dropout)          (None, 11, 11, 256)       0         \n",
      "_________________________________________________________________\n",
      "conv2d_14 (Conv2D)           (None, 9, 9, 128)         295040    \n",
      "_________________________________________________________________\n",
      "max_pooling2d_8 (MaxPooling2 (None, 3, 3, 128)         0         \n",
      "_________________________________________________________________\n",
      "flatten_2 (Flatten)          (None, 1152)              0         \n",
      "_________________________________________________________________\n",
      "dense_4 (Dense)              (None, 64)                73792     \n",
      "_________________________________________________________________\n",
      "dense_5 (Dense)              (None, 64)                4160      \n",
      "_________________________________________________________________\n",
      "dense_6 (Dense)              (None, 10)                650       \n",
      "=================================================================\n",
      "Total params: 1,912,906\n",
      "Trainable params: 1,912,010\n",
      "Non-trainable params: 896\n",
      "_________________________________________________________________\n"
     ]
    }
   ],
   "source": [
    "# Build Model\n",
    "model = build_cnn((128,128,1))"
   ]
  },
  {
   "cell_type": "code",
   "execution_count": 14,
   "metadata": {
    "colab": {
     "base_uri": "https://localhost:8080/",
     "height": 666
    },
    "colab_type": "code",
    "executionInfo": {
     "elapsed": 1515484,
     "status": "ok",
     "timestamp": 1573616633466,
     "user": {
      "displayName": "Nikhil Krishna",
      "photoUrl": "https://lh3.googleusercontent.com/a-/AAuE7mBTB9sW-Jni0JYc4yDayiCfS4RVO2wKcTzrPj0d=s64",
      "userId": "09332230752069970611"
     },
     "user_tz": 300
    },
    "id": "A-4HN717ixCd",
    "outputId": "2cfebb28-00c0-4156-8a05-03abfc127380"
   },
   "outputs": [
    {
     "name": "stdout",
     "output_type": "stream",
     "text": [
      "WARNING:tensorflow:From /usr/local/lib/python3.6/dist-packages/tensorflow_core/python/ops/math_grad.py:1424: where (from tensorflow.python.ops.array_ops) is deprecated and will be removed in a future version.\n",
      "Instructions for updating:\n",
      "Use tf.where in 2.0, which has the same broadcast rule as np.where\n",
      "WARNING:tensorflow:From /usr/local/lib/python3.6/dist-packages/keras/backend/tensorflow_backend.py:1033: The name tf.assign_add is deprecated. Please use tf.compat.v1.assign_add instead.\n",
      "\n",
      "WARNING:tensorflow:From /usr/local/lib/python3.6/dist-packages/keras/backend/tensorflow_backend.py:1020: The name tf.assign is deprecated. Please use tf.compat.v1.assign instead.\n",
      "\n",
      "Train on 48000 samples, validate on 2000 samples\n",
      "Epoch 1/15\n",
      "48000/48000 [==============================] - 123s 3ms/step - loss: 1.8813 - acc: 0.2760 - val_loss: 1.7800 - val_acc: 0.3370\n",
      "Epoch 2/15\n",
      "48000/48000 [==============================] - 102s 2ms/step - loss: 1.4682 - acc: 0.4279 - val_loss: 1.3531 - val_acc: 0.5215\n",
      "Epoch 3/15\n",
      "48000/48000 [==============================] - 102s 2ms/step - loss: 1.1484 - acc: 0.5981 - val_loss: 1.0687 - val_acc: 0.6415\n",
      "Epoch 4/15\n",
      "48000/48000 [==============================] - 102s 2ms/step - loss: 0.9401 - acc: 0.6732 - val_loss: 0.7668 - val_acc: 0.7125\n",
      "Epoch 5/15\n",
      "48000/48000 [==============================] - 102s 2ms/step - loss: 0.7006 - acc: 0.7765 - val_loss: 0.5051 - val_acc: 0.8420\n",
      "Epoch 6/15\n",
      "48000/48000 [==============================] - 102s 2ms/step - loss: 0.5591 - acc: 0.8241 - val_loss: 0.5097 - val_acc: 0.8320\n",
      "Epoch 7/15\n",
      "48000/48000 [==============================] - 102s 2ms/step - loss: 0.4871 - acc: 0.8486 - val_loss: 0.6845 - val_acc: 0.8205\n",
      "Epoch 8/15\n",
      "48000/48000 [==============================] - 101s 2ms/step - loss: 0.4078 - acc: 0.8781 - val_loss: 0.2565 - val_acc: 0.9225\n",
      "Epoch 9/15\n",
      "48000/48000 [==============================] - 102s 2ms/step - loss: 0.3467 - acc: 0.9020 - val_loss: 0.2014 - val_acc: 0.9430\n",
      "Epoch 10/15\n",
      "48000/48000 [==============================] - 115s 2ms/step - loss: 0.3103 - acc: 0.9119 - val_loss: 0.1933 - val_acc: 0.9495\n",
      "Epoch 11/15\n",
      "48000/48000 [==============================] - 116s 2ms/step - loss: 0.2801 - acc: 0.9214 - val_loss: 0.1611 - val_acc: 0.9500\n",
      "Epoch 12/15\n",
      "48000/48000 [==============================] - 115s 2ms/step - loss: 0.2687 - acc: 0.9246 - val_loss: 0.1616 - val_acc: 0.9485\n",
      "Epoch 13/15\n",
      "48000/48000 [==============================] - 115s 2ms/step - loss: 0.2538 - acc: 0.9284 - val_loss: 0.2007 - val_acc: 0.9455\n",
      "Epoch 14/15\n",
      "48000/48000 [==============================] - 115s 2ms/step - loss: 0.2383 - acc: 0.9310 - val_loss: 0.1677 - val_acc: 0.9520\n",
      "Epoch 00014: early stopping\n"
     ]
    }
   ],
   "source": [
    "# Fit model \n",
    "model = fit_cnn(train_images, train_labels, 'nadam', 0.004, 'categorical_crossentropy', [\"accuracy\"])"
   ]
  },
  {
   "cell_type": "code",
   "execution_count": 20,
   "metadata": {
    "colab": {
     "base_uri": "https://localhost:8080/",
     "height": 969
    },
    "colab_type": "code",
    "executionInfo": {
     "elapsed": 581,
     "status": "ok",
     "timestamp": 1573617058978,
     "user": {
      "displayName": "Nikhil Krishna",
      "photoUrl": "https://lh3.googleusercontent.com/a-/AAuE7mBTB9sW-Jni0JYc4yDayiCfS4RVO2wKcTzrPj0d=s64",
      "userId": "09332230752069970611"
     },
     "user_tz": 300
    },
    "id": "w5KWVK3L32Yj",
    "outputId": "e11a2b20-54d4-4d15-d485-ca5d5215732f"
   },
   "outputs": [
    {
     "data": {
      "text/plain": [
       "{'acc': [0.27595833333333336,\n",
       "  0.42791666666666667,\n",
       "  0.5980833333333333,\n",
       "  0.6732083333333333,\n",
       "  0.7764583333333334,\n",
       "  0.8240833333333333,\n",
       "  0.8486458333333333,\n",
       "  0.8780833333333333,\n",
       "  0.9019583333333333,\n",
       "  0.9119375,\n",
       "  0.9213958333333333,\n",
       "  0.924625,\n",
       "  0.9284166666666667,\n",
       "  0.9310208333333333],\n",
       " 'loss': [1.8812847968737285,\n",
       "  1.468161240418752,\n",
       "  1.1484387111266454,\n",
       "  0.9401118058363597,\n",
       "  0.7006354164381822,\n",
       "  0.5591104730168979,\n",
       "  0.4870756020496289,\n",
       "  0.40782339134067297,\n",
       "  0.3467479344823708,\n",
       "  0.3103316341340542,\n",
       "  0.2800966887585819,\n",
       "  0.26873289889718094,\n",
       "  0.25380660766859847,\n",
       "  0.23827578979668518],\n",
       " 'val_acc': [0.337,\n",
       "  0.5215,\n",
       "  0.6415,\n",
       "  0.7125,\n",
       "  0.842,\n",
       "  0.832,\n",
       "  0.8205,\n",
       "  0.9225,\n",
       "  0.943,\n",
       "  0.9495,\n",
       "  0.95,\n",
       "  0.9485,\n",
       "  0.9455,\n",
       "  0.952],\n",
       " 'val_loss': [1.7800255489349366,\n",
       "  1.353081039428711,\n",
       "  1.0686608543395997,\n",
       "  0.7667552332878113,\n",
       "  0.505105019569397,\n",
       "  0.509687824845314,\n",
       "  0.6844536342620849,\n",
       "  0.2565367531478405,\n",
       "  0.20140201371908187,\n",
       "  0.19330831521749497,\n",
       "  0.16109026208519936,\n",
       "  0.1615833235606551,\n",
       "  0.20071274596452712,\n",
       "  0.16772514462471008]}"
      ]
     },
     "execution_count": 20,
     "metadata": {
      "tags": []
     },
     "output_type": "execute_result"
    }
   ],
   "source": [
    "# Get the history of the model\n",
    "model_history = model.history.history\n",
    "model_history"
   ]
  },
  {
   "cell_type": "code",
   "execution_count": 0,
   "metadata": {
    "colab": {},
    "colab_type": "code",
    "id": "lv38TsjS4NYJ"
   },
   "outputs": [],
   "source": [
    "# Store history in variables\n",
    "training_accuracies = model_history['acc']\n",
    "training_losses = model_history['loss']\n",
    "validation_accuracies = model_history['val_acc']\n",
    "validation_losses = model_history['val_loss']"
   ]
  },
  {
   "cell_type": "code",
   "execution_count": 40,
   "metadata": {
    "colab": {
     "base_uri": "https://localhost:8080/",
     "height": 295
    },
    "colab_type": "code",
    "executionInfo": {
     "elapsed": 727,
     "status": "ok",
     "timestamp": 1573617694369,
     "user": {
      "displayName": "Nikhil Krishna",
      "photoUrl": "https://lh3.googleusercontent.com/a-/AAuE7mBTB9sW-Jni0JYc4yDayiCfS4RVO2wKcTzrPj0d=s64",
      "userId": "09332230752069970611"
     },
     "user_tz": 300
    },
    "id": "TQl5fzgY5QTQ",
    "outputId": "653015b4-b9e6-47d4-981e-d70bce41732e"
   },
   "outputs": [
    {
     "data": {
      "image/png": "[encoded data removed]",
      "text/plain": [
       "<Figure size 432x288 with 1 Axes>"
      ]
     },
     "metadata": {
      "tags": []
     },
     "output_type": "display_data"
    }
   ],
   "source": [
    "# Plot accuracy vs epoch\n",
    "plot_data(np.arange(1,15), training_accuracies, validation_accuracies, \"Training and Validation Accuracies by Epoch\", \"Epoch\", \"Accuracy\", \"lower right\")"
   ]
  },
  {
   "cell_type": "code",
   "execution_count": 41,
   "metadata": {
    "colab": {
     "base_uri": "https://localhost:8080/",
     "height": 295
    },
    "colab_type": "code",
    "executionInfo": {
     "elapsed": 468,
     "status": "ok",
     "timestamp": 1573617724723,
     "user": {
      "displayName": "Nikhil Krishna",
      "photoUrl": "https://lh3.googleusercontent.com/a-/AAuE7mBTB9sW-Jni0JYc4yDayiCfS4RVO2wKcTzrPj0d=s64",
      "userId": "09332230752069970611"
     },
     "user_tz": 300
    },
    "id": "pexcz69Q5aGW",
    "outputId": "6379477d-afe5-4a12-bae8-da4486654718"
   },
   "outputs": [
    {
     "data": {
      "image/png": "[encoded data removed]",
      "text/plain": [
       "<Figure size 432x288 with 1 Axes>"
      ]
     },
     "metadata": {
      "tags": []
     },
     "output_type": "display_data"
    }
   ],
   "source": [
    "# Plot loss vs epoch\n",
    "plot_data(np.arange(1,15), training_losses, validation_losses, \"Training and Validation Losses by Epoch\", \"Epoch\", \"Loss\", \"upper right\")"
   ]
  }
 ],
 "metadata": {
  "accelerator": "GPU",
  "colab": {
   "collapsed_sections": [],
   "name": "Keras_Data.ipynb",
   "provenance": []
  },
  "kernelspec": {
   "display_name": "Python 3",
   "language": "python",
   "name": "python3"
  },
  "language_info": {
   "codemirror_mode": {
    "name": "ipython",
    "version": 3
   },
   "file_extension": ".py",
   "mimetype": "text/x-python",
   "name": "python",
   "nbconvert_exporter": "python",
   "pygments_lexer": "ipython3",
   "version": "3.7.4"
  }
 },
 "nbformat": 4,
 "nbformat_minor": 1
}
