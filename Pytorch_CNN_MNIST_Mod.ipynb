{
 "cells": [
  {
   "cell_type": "code",
   "execution_count": 0,
   "metadata": {
    "colab": {},
    "colab_type": "code",
    "id": "sN8ti8Fjo2uE"
   },
   "outputs": [],
   "source": [
    "# import all necessary packages\n",
    "import numpy as np\n",
    "import pandas as pd\n",
    "import matplotlib.pyplot as plt\n",
    "%matplotlib inline\n",
    "\n",
    "\n",
    "import pickle as pkl\n",
    "import torch \n",
    "from __future__ import print_function\n",
    "import argparse\n",
    "import torch\n",
    "import torch.nn as nn\n",
    "import torch.nn.functional as F\n",
    "import torch.optim as optim\n",
    "from torchvision import datasets, transforms\n",
    "from torch.autograd import Variable\n",
    "from torch.utils.data import Dataset\n",
    "\n",
    "from sklearn.metrics import accuracy_score"
   ]
  },
  {
   "cell_type": "code",
   "execution_count": 0,
   "metadata": {
    "colab": {},
    "colab_type": "code",
    "id": "ml-uIR0bo8vZ"
   },
   "outputs": [],
   "source": [
    "device = torch.device('cuda:0' if torch.cuda.is_available() else 'cpu')\n",
    "\n",
    "# create a class specific to MNIST data\n",
    "class MNIST_Dataset(Dataset):\n",
    "    \n",
    "    def __init__(self, X, y, transform = transforms.Compose(\n",
    "                     [transforms.ToPILImage(), \n",
    "                      transforms.ToTensor(), \n",
    "                      transforms.Normalize(mean=(0.5,), std=(0.5,))])):\n",
    "            \n",
    "        self.transform = transform\n",
    "        self.X = X.reshape((-1,128,128)).astype(np.uint8)[:,:,:,None]\n",
    "        self.y = y\n",
    "        \n",
    "    @classmethod\n",
    "    def from_train(cls, file_path_images, file_path_labels):\n",
    "        train_images = pd.read_pickle(file_path_images)\n",
    "        train_labels = pd.read_csv(file_path_labels)\n",
    "        \n",
    "        return cls(X=train_images, y=torch.from_numpy(train_labels['Label'].values))\n",
    "        \n",
    "    @classmethod\n",
    "    def from_test(cls, file_path_images):\n",
    "        test_images = pd.read_pickle(file_path_images)\n",
    "        \n",
    "        return cls(X=test_images, y=None)\n",
    "    \n",
    "    def __len__(self):\n",
    "        return len(self.X)\n",
    "\n",
    "    def __getitem__(self, idx):\n",
    "        X = self.transform(self.X[idx])\n",
    "        X = X.to(device)\n",
    "        if self.y is not None:\n",
    "            return X, self.y[idx].to(device)\n",
    "        else:\n",
    "            return X"
   ]
  },
  {
   "cell_type": "code",
   "execution_count": 3,
   "metadata": {
    "colab": {
     "base_uri": "https://localhost:8080/",
     "height": 122
    },
    "colab_type": "code",
    "id": "zSI233tPo_ki",
    "outputId": "be1f0b00-469b-487e-8147-d6613f6faf69"
   },
   "outputs": [
    {
     "name": "stdout",
     "output_type": "stream",
     "text": [
      "Go to this URL in a browser: https://accounts.google.com/o/oauth2/auth?client_id=947318989803-6bn6qk8qdgf4n4g3pfee6491hc0brc4i.apps.googleusercontent.com&redirect_uri=urn%3Aietf%3Awg%3Aoauth%3A2.0%3Aoob&scope=email%20https%3A%2F%2Fwww.googleapis.com%2Fauth%2Fdocs.test%20https%3A%2F%2Fwww.googleapis.com%2Fauth%2Fdrive%20https%3A%2F%2Fwww.googleapis.com%2Fauth%2Fdrive.photos.readonly%20https%3A%2F%2Fwww.googleapis.com%2Fauth%2Fpeopleapi.readonly&response_type=code\n",
      "\n",
      "Enter your authorization code:\n",
      "··········\n",
      "Mounted at /content/drive\n"
     ]
    }
   ],
   "source": [
    "# For google colab connection to google drive\n",
    "from google.colab import drive\n",
    "drive.mount('/content/drive')"
   ]
  },
  {
   "cell_type": "code",
   "execution_count": 4,
   "metadata": {
    "colab": {
     "base_uri": "https://localhost:8080/",
     "height": 68
    },
    "colab_type": "code",
    "id": "TllKl2D9pEK5",
    "outputId": "2ff07985-10ca-4b85-b018-20ce55084b62"
   },
   "outputs": [
    {
     "name": "stdout",
     "output_type": "stream",
     "text": [
      "45000\n",
      "(45000, 128, 128)\n",
      "torch.Size([45000])\n"
     ]
    }
   ],
   "source": [
    "# Get the data\n",
    "train_data = pd.read_pickle('drive/My Drive/train_max_x') #File is too large, here's a workaround\n",
    "#test_images = pd.read_pickle('drive/My Drive/test_max_x')\n",
    "train_labels = pd.read_csv('drive/My Drive/train_max_y.csv')\n",
    "number_train_images = int(train_data.shape[0] * 0.9)\n",
    "print(number_train_images)\n",
    "\n",
    "X_train = train_data[:number_train_images]\n",
    "print(X_train.shape) #128 x 128, total size = 45,000\n",
    "y_train = torch.from_numpy(train_labels['Label'][:number_train_images].values)\n",
    "print(y_train.shape)\n",
    "\n",
    "X_validation = train_data[number_train_images:]\n",
    "y_validation = train_labels['Label'][number_train_images:].values"
   ]
  },
  {
   "cell_type": "code",
   "execution_count": 0,
   "metadata": {
    "colab": {},
    "colab_type": "code",
    "id": "QVVuNYgSpR-R"
   },
   "outputs": [],
   "source": [
    "# Load the data into dataloaders\n",
    "batch_size = 32\n",
    "\n",
    "train_dataset = MNIST_Dataset(X_train, y_train)\n",
    "train_dataset2 = MNIST_Dataset(X_train, None)\n",
    "validation_dataset = MNIST_Dataset(X_validation, None)\n",
    "test_dataset = MNIST_Dataset.from_test('drive/My Drive/test_max_x')\n",
    "\n",
    "train_loader = torch.utils.data.DataLoader(dataset=train_dataset, batch_size=batch_size,                                      \n",
    "                                           shuffle=True)\n",
    "\n",
    "train_loader2 = torch.utils.data.DataLoader(dataset=train_dataset2,\n",
    "                                           batch_size=batch_size, \n",
    "                                           shuffle=True)\n",
    "\n",
    "validation_loader = torch.utils.data.DataLoader(dataset=validation_dataset, batch_size=batch_size, \n",
    "                                           shuffle=False)\n",
    "\n",
    "test_loader = torch.utils.data.DataLoader(dataset=test_dataset, batch_size=batch_size,\n",
    "                                           shuffle=False)"
   ]
  },
  {
   "cell_type": "code",
   "execution_count": 0,
   "metadata": {
    "colab": {},
    "colab_type": "code",
    "id": "tu_DB542psZj"
   },
   "outputs": [],
   "source": [
    "# class for the neural network\n",
    "class CNN(nn.Module):\n",
    "    \n",
    "    def __init__(self, input_dim, output_dim, dropout=0.5):\n",
    "        \n",
    "        super(CNN, self).__init__()\n",
    "        \n",
    "        # Layers\n",
    "        self.layer1 = nn.Sequential(\n",
    "            nn.Conv2d(1, 32, 2),\n",
    "            nn.Conv2d(32, 32, 2),\n",
    "            nn.BatchNorm2d(32),\n",
    "            nn.ReLU(),\n",
    "            nn.MaxPool2d(2),\n",
    "            nn.Dropout(dropout))\n",
    "        \n",
    "        self.layer2 = nn.Sequential(\n",
    "            nn.Conv2d(32, 64, 2),\n",
    "            nn.Conv2d(64, 64, 3),\n",
    "            nn.BatchNorm2d(64),\n",
    "            nn.ReLU(),\n",
    "            nn.MaxPool2d(2),\n",
    "            nn.Dropout(dropout))\n",
    "        \n",
    "        self.layer3 = nn.Sequential(\n",
    "            nn.Conv2d(64, 128, 3),\n",
    "            nn.Conv2d(128, 128, 3),\n",
    "            nn.BatchNorm2d(128),\n",
    "            nn.ReLU(),\n",
    "            nn.MaxPool2d(3, stride=2),\n",
    "            nn.Dropout(dropout))\n",
    "        \n",
    "        self.fc = nn.Linear(18432, output_dim)\n",
    "     \n",
    "    # For forward calculations\n",
    "    def forward(self, x):\n",
    "            \n",
    "        out = self.layer1(x)\n",
    "        out = self.layer2(out)\n",
    "        out = self.layer3(out)\n",
    "        out = out.reshape(out.size(0), -1)\n",
    "        out = self.fc(out)\n",
    "            \n",
    "        return out\n",
    "    "
   ]
  },
  {
   "cell_type": "code",
   "execution_count": 0,
   "metadata": {
    "colab": {},
    "colab_type": "code",
    "id": "cNp6vZ_Cp4rz"
   },
   "outputs": [],
   "source": [
    "# Function to predict from data\n",
    "def predict(model, data_loader):\n",
    "    test_pred = torch.LongTensor()\n",
    "    \n",
    "    # go through data\n",
    "    for i, data in enumerate(data_loader):\n",
    "        output = model(data)\n",
    "        \n",
    "        pred = output.cpu().data.max(1, keepdim=True)[1]\n",
    "        test_pred = torch.cat((test_pred, pred), dim=0)\n",
    "        \n",
    "    return test_pred"
   ]
  },
  {
   "cell_type": "code",
   "execution_count": 0,
   "metadata": {
    "colab": {},
    "colab_type": "code",
    "id": "9cQH4a6BqBFX"
   },
   "outputs": [],
   "source": [
    "# Function to train the model\n",
    "def train_model(model_class, train_loader, validation_loader, y_validation, dropout=0.3, epochs=25, criterion=nn.CrossEntropyLoss(), learning_rate=1e-3):\n",
    "    input_dim = 128 * 128\n",
    "    output_dim = 10\n",
    "    model = model_class(input_dim, output_dim, dropout).to(device)\n",
    "    \n",
    "    optimizer = optim.Adam(model.parameters(), lr=learning_rate)\n",
    "\n",
    "    losses = []\n",
    "    validation_score_per_epoch = []\n",
    "    training_score_per_epoch = []\n",
    "    print(\"Beginning training...\\n\\n\")\n",
    "\n",
    "    # Begin training loop\n",
    "    for epoch in range(epochs):\n",
    "        \n",
    "        # Go through data\n",
    "        for idx, data in enumerate(train_loader, 0):\n",
    "            inputs, labels = data\n",
    "            labels = labels.to(dtype=torch.long)\n",
    "            data = data[0].view(data[0].shape[0], -1)\n",
    "\n",
    "            optimizer.zero_grad()\n",
    "            outputs = model(inputs)  \n",
    "\n",
    "            loss = criterion(outputs, labels)\n",
    "            loss.backward()\n",
    "            optimizer.step()\n",
    "        \n",
    "        # calculate metrics\n",
    "        model.eval()\n",
    "\n",
    "        training_predictions = predict(model, train_loader2).numpy()\n",
    "        training_score_per_epoch.append(accuracy_score(y_train, training_predictions))\n",
    "        validation_predictions = predict(model, validation_loader).numpy()\n",
    "        validation_score_per_epoch.append(accuracy_score(y_validation, validation_predictions))\n",
    "        \n",
    "        model.train()\n",
    "        \n",
    "        losses.append(loss)\n",
    "    print('[Finished Training] Training Score: %.4f Validation Score: %.4f Loss: %.4f' % (training_score_per_epoch[-1],validation_score_per_epoch[-1], losses[-1]))\n",
    "    return model, losses, validation_score_per_epoch, training_score_per_epoch"
   ]
  },
  {
   "cell_type": "code",
   "execution_count": 9,
   "metadata": {
    "colab": {
     "base_uri": "https://localhost:8080/",
     "height": 85
    },
    "colab_type": "code",
    "id": "Jgen2WD3qjr6",
    "outputId": "da3c5e20-6cbe-406b-f772-a3b2c7197e3a"
   },
   "outputs": [
    {
     "name": "stdout",
     "output_type": "stream",
     "text": [
      "Beginning training...\n",
      "\n",
      "\n",
      "[Finished Training] Training Score: 0.1787 Validation Score: 0.8886 Loss: 0.1940\n"
     ]
    }
   ],
   "source": [
    "# train the model \n",
    "summary = {'model' : [], 'loss' : [], 'validation_score' : [], 'training_score' : []}\n",
    "    \n",
    "model, loss, val_score, train_score = train_model(CNN, train_loader, validation_loader, y_validation, dropout=0.3, epochs=25)\n",
    "summary['model'].append(model)\n",
    "summary['loss'].append(loss)\n",
    "summary['validation_score'].append(val_score)\n",
    "summary['training_score'].append(train_score)\n"
   ]
  },
  {
   "cell_type": "code",
   "execution_count": 0,
   "metadata": {
    "colab": {},
    "colab_type": "code",
    "id": "jA6NO_XblVz1"
   },
   "outputs": [],
   "source": [
    "loss2 = loss\n",
    "model2 = model\n",
    "val_score2 = val_score\n",
    "train_score2 = train_score"
   ]
  },
  {
   "cell_type": "code",
   "execution_count": 23,
   "metadata": {
    "colab": {
     "base_uri": "https://localhost:8080/",
     "height": 350
    },
    "colab_type": "code",
    "id": "2WtH_5IrquTj",
    "outputId": "063496f4-91a3-4d04-efc3-d9020633d570"
   },
   "outputs": [
    {
     "data": {
      "image/png": "[encoded data removed]",
      "text/plain": [
       "<Figure size 720x360 with 1 Axes>"
      ]
     },
     "metadata": {
      "tags": []
     },
     "output_type": "display_data"
    }
   ],
   "source": [
    "# Plot some data\n",
    "plt.figure(figsize=(10,5))\n",
    "numEpochs = [1,2,3,4,5,6,7,8,9,10,11,12,13,14\n",
    "             ,15,16,17,18,19,20,21,22,23,24,25]\n",
    "plt.plot(numEpochs, loss)\n",
    "plt.title('CNN Model Epochs vs Loss')\n",
    "plt.ylabel('Loss')\n",
    "plt.xlabel('Epoch')\n",
    "axes = plt.gca()\n",
    "plt.show()"
   ]
  },
  {
   "cell_type": "code",
   "execution_count": 24,
   "metadata": {
    "colab": {
     "base_uri": "https://localhost:8080/",
     "height": 54
    },
    "colab_type": "code",
    "id": "OaSdQoxjSorW",
    "outputId": "d83d37dc-675f-4822-cf70-49460b17b62c"
   },
   "outputs": [
    {
     "name": "stdout",
     "output_type": "stream",
     "text": [
      "[tensor(2.3710, device='cuda:0', grad_fn=<NllLossBackward>), tensor(1.7389, device='cuda:0', grad_fn=<NllLossBackward>), tensor(1.8030, device='cuda:0', grad_fn=<NllLossBackward>), tensor(2.0665, device='cuda:0', grad_fn=<NllLossBackward>), tensor(1.8936, device='cuda:0', grad_fn=<NllLossBackward>), tensor(2.1089, device='cuda:0', grad_fn=<NllLossBackward>), tensor(1.4981, device='cuda:0', grad_fn=<NllLossBackward>), tensor(1.0750, device='cuda:0', grad_fn=<NllLossBackward>), tensor(0.3897, device='cuda:0', grad_fn=<NllLossBackward>), tensor(0.9208, device='cuda:0', grad_fn=<NllLossBackward>), tensor(1.1104, device='cuda:0', grad_fn=<NllLossBackward>), tensor(0.5228, device='cuda:0', grad_fn=<NllLossBackward>), tensor(0.7581, device='cuda:0', grad_fn=<NllLossBackward>), tensor(0.7124, device='cuda:0', grad_fn=<NllLossBackward>), tensor(0.4202, device='cuda:0', grad_fn=<NllLossBackward>), tensor(0.7852, device='cuda:0', grad_fn=<NllLossBackward>), tensor(0.4317, device='cuda:0', grad_fn=<NllLossBackward>), tensor(0.3692, device='cuda:0', grad_fn=<NllLossBackward>), tensor(0.7925, device='cuda:0', grad_fn=<NllLossBackward>), tensor(0.8441, device='cuda:0', grad_fn=<NllLossBackward>), tensor(0.0947, device='cuda:0', grad_fn=<NllLossBackward>), tensor(1.2617, device='cuda:0', grad_fn=<NllLossBackward>), tensor(0.7415, device='cuda:0', grad_fn=<NllLossBackward>), tensor(0.3549, device='cuda:0', grad_fn=<NllLossBackward>), tensor(0.1940, device='cuda:0', grad_fn=<NllLossBackward>)]\n"
     ]
    }
   ],
   "source": [
    "print(loss)"
   ]
  },
  {
   "cell_type": "code",
   "execution_count": 25,
   "metadata": {
    "colab": {
     "base_uri": "https://localhost:8080/",
     "height": 350
    },
    "colab_type": "code",
    "id": "JmEHkzktiYI4",
    "outputId": "df290852-7725-4f8f-e775-9b2a10b6dade"
   },
   "outputs": [
    {
     "data": {
      "image/png": "[encoded data removed]",
      "text/plain": [
       "<Figure size 720x360 with 1 Axes>"
      ]
     },
     "metadata": {
      "tags": []
     },
     "output_type": "display_data"
    }
   ],
   "source": [
    "# Plot some more data\n",
    "plt.figure(figsize=(10,5))\n",
    "plt.plot(numEpochs, val_score)\n",
    "plt.title('CNN Model Epochs vs Validation Score')\n",
    "plt.ylabel('Validation Score')\n",
    "plt.xlabel('Epoch')\n",
    "axes = plt.gca()\n",
    "plt.show()"
   ]
  },
  {
   "cell_type": "code",
   "execution_count": 26,
   "metadata": {
    "colab": {
     "base_uri": "https://localhost:8080/",
     "height": 71
    },
    "colab_type": "code",
    "id": "3HDssWyYjAUk",
    "outputId": "02649132-bf83-4a3d-8686-5aca17d438a6"
   },
   "outputs": [
    {
     "name": "stdout",
     "output_type": "stream",
     "text": [
      "[0.2636, 0.26715555555555554, 0.23357777777777777, 0.26868888888888887, 0.2677111111111111, 0.2558888888888889, 0.21637777777777778, 0.19953333333333334, 0.19064444444444445, 0.18064444444444444, 0.17542222222222223, 0.17773333333333333, 0.17457777777777778, 0.17584444444444444, 0.1766, 0.17444444444444446, 0.17608888888888888, 0.1751111111111111, 0.17675555555555555, 0.1768888888888889, 0.17502222222222222, 0.1746888888888889, 0.1739111111111111, 0.17586666666666667, 0.1786888888888889]\n",
      "<class 'list'>\n"
     ]
    }
   ],
   "source": [
    "print(train_score)\n",
    "print(type(train_score))"
   ]
  },
  {
   "cell_type": "code",
   "execution_count": 0,
   "metadata": {
    "colab": {},
    "colab_type": "code",
    "id": "rUozZDbAj9Ba"
   },
   "outputs": [],
   "source": [
    "train_score_arr = np.asarray(train_score)\n",
    "np_ones = np.ones(25)"
   ]
  },
  {
   "cell_type": "code",
   "execution_count": 28,
   "metadata": {
    "colab": {
     "base_uri": "https://localhost:8080/",
     "height": 51
    },
    "colab_type": "code",
    "id": "lBHoyX0qkKOd",
    "outputId": "670937e2-2484-4e3e-95e6-1d16effc7295"
   },
   "outputs": [
    {
     "data": {
      "text/plain": [
       "array([1., 1., 1., 1., 1., 1., 1., 1., 1., 1., 1., 1., 1., 1., 1., 1., 1.,\n",
       "       1., 1., 1., 1., 1., 1., 1., 1.])"
      ]
     },
     "execution_count": 28,
     "metadata": {
      "tags": []
     },
     "output_type": "execute_result"
    }
   ],
   "source": [
    "np_ones"
   ]
  },
  {
   "cell_type": "code",
   "execution_count": 0,
   "metadata": {
    "colab": {},
    "colab_type": "code",
    "id": "Q_WjGGJKkW7J"
   },
   "outputs": [],
   "source": [
    "train_acc = np.subtract(np_ones, train_score_arr)"
   ]
  },
  {
   "cell_type": "code",
   "execution_count": 30,
   "metadata": {
    "colab": {
     "base_uri": "https://localhost:8080/",
     "height": 102
    },
    "colab_type": "code",
    "id": "qSxpVQi8ko2T",
    "outputId": "466c49f9-5e50-4bc8-885f-8b117f0f2fb5"
   },
   "outputs": [
    {
     "name": "stdout",
     "output_type": "stream",
     "text": [
      "[0.7364     0.73284444 0.76642222 0.73131111 0.73228889 0.74411111\n",
      " 0.78362222 0.80046667 0.80935556 0.81935556 0.82457778 0.82226667\n",
      " 0.82542222 0.82415556 0.8234     0.82555556 0.82391111 0.82488889\n",
      " 0.82324444 0.82311111 0.82497778 0.82531111 0.82608889 0.82413333\n",
      " 0.82131111]\n"
     ]
    }
   ],
   "source": [
    "print(train_acc)"
   ]
  },
  {
   "cell_type": "code",
   "execution_count": 31,
   "metadata": {
    "colab": {
     "base_uri": "https://localhost:8080/",
     "height": 350
    },
    "colab_type": "code",
    "id": "s0hiQDx6kp8K",
    "outputId": "857360ca-6cd9-4198-c19e-9ab498576d82"
   },
   "outputs": [
    {
     "data": {
      "image/png": "[encoded data removed]",
      "text/plain": [
       "<Figure size 720x360 with 1 Axes>"
      ]
     },
     "metadata": {
      "tags": []
     },
     "output_type": "display_data"
    }
   ],
   "source": [
    "# Plot even more data\n",
    "plt.figure(figsize=(10,5))\n",
    "plt.plot(numEpochs, train_acc)\n",
    "plt.title('CNN Model Epochs vs Accuracy')\n",
    "plt.ylabel('Accuracy')\n",
    "plt.xlabel('Epoch')\n",
    "axes = plt.gca()\n",
    "plt.show()"
   ]
  },
  {
   "cell_type": "code",
   "execution_count": 0,
   "metadata": {
    "colab": {},
    "colab_type": "code",
    "id": "loimlf6Gk7i_"
   },
   "outputs": [],
   "source": [
    "#Final Accuracy = .88"
   ]
  },
  {
   "cell_type": "code",
   "execution_count": 0,
   "metadata": {
    "colab": {},
    "colab_type": "code",
    "id": "x5lobVAzlCDb"
   },
   "outputs": [],
   "source": []
  }
 ],
 "metadata": {
  "accelerator": "GPU",
  "colab": {
   "collapsed_sections": [],
   "name": "Copy_of_Final_CNN.ipynb",
   "provenance": []
  },
  "kernelspec": {
   "display_name": "Python 3",
   "language": "python",
   "name": "python3"
  },
  "language_info": {
   "codemirror_mode": {
    "name": "ipython",
    "version": 3
   },
   "file_extension": ".py",
   "mimetype": "text/x-python",
   "name": "python",
   "nbconvert_exporter": "python",
   "pygments_lexer": "ipython3",
   "version": "3.7.4"
  }
 },
 "nbformat": 4,
 "nbformat_minor": 1
}
